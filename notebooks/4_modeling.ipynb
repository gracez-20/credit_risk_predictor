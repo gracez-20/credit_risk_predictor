{
 "cells": [
  {
   "cell_type": "code",
   "execution_count": 1,
   "id": "4fb31a41",
   "metadata": {},
   "outputs": [],
   "source": [
    "# Load data\n",
    "import pandas as pd\n",
    "\n",
    "df_train = pd.read_csv(\"../data/processed/train_selected.csv\")\n",
    "df_test = pd.read_csv(\"../data/processed/test_selected.csv\")\n",
    "\n",
    "X_train = df_train.drop(columns=['target'])\n",
    "y_train = df_train['target']\n",
    "X_test = df_test.drop(columns=['target'])\n",
    "y_test = df_test['target']"
   ]
  },
  {
   "cell_type": "code",
   "execution_count": 18,
   "id": "f5cdd8c2",
   "metadata": {},
   "outputs": [],
   "source": [
    "import sys\n",
    "import os\n",
    "project_root = os.path.abspath(os.path.join(os.getcwd(), \"..\"))\n",
    "if project_root not in sys.path:\n",
    "    sys.path.append(project_root)\n",
    "\n",
    "from sklearn.linear_model import LogisticRegression\n",
    "import pandas as pd\n",
    "from src.models.evaluate_model import evaluate_model_performance\n",
    "import numpy as np"
   ]
  },
  {
   "cell_type": "code",
   "execution_count": null,
   "id": "ee00474f",
   "metadata": {},
   "outputs": [],
   "source": [
    "# Load this trunk if function in src is not updated in notebook\n",
    "import importlib\n",
    "import src.models.evaluate_model as em\n",
    "importlib.reload(em)\n",
    "from src.models.evaluate_model import evaluate_model_performance"
   ]
  },
  {
   "cell_type": "code",
   "execution_count": 22,
   "id": "0570660f",
   "metadata": {},
   "outputs": [
    {
     "data": {
      "text/plain": [
       "{'accuracy': 0.71,\n",
       " 'precision': 0.7530864197530864,\n",
       " 'recall': 0.8714285714285714,\n",
       " 'f1': 0.8079470198675497,\n",
       " 'confusion_matrix': array([[ 20,  40],\n",
       "        [ 18, 122]]),\n",
       " 'total_cost': np.int64(130),\n",
       " 'auc': np.float64(0.7252380952380953)}"
      ]
     },
     "execution_count": 22,
     "metadata": {},
     "output_type": "execute_result"
    }
   ],
   "source": [
    "# Baseline: Logistic model\n",
    "model = LogisticRegression(max_iter=1000)\n",
    "model.fit(X_train, y_train)\n",
    "\n",
    "y_pred = model.predict(X_test)\n",
    "y_pred_prob = model.predict_proba(X_test)[:, 1]\n",
    "\n",
    "baseline_result = evaluate_model_performance(y_test, y_pred, y_pred_prob)\n",
    "baseline_result\n"
   ]
  },
  {
   "cell_type": "code",
   "execution_count": null,
   "id": "97a6d2f8",
   "metadata": {},
   "outputs": [],
   "source": []
  }
 ],
 "metadata": {
  "kernelspec": {
   "display_name": "credit_risk",
   "language": "python",
   "name": "python3"
  },
  "language_info": {
   "codemirror_mode": {
    "name": "ipython",
    "version": 3
   },
   "file_extension": ".py",
   "mimetype": "text/x-python",
   "name": "python",
   "nbconvert_exporter": "python",
   "pygments_lexer": "ipython3",
   "version": "3.13.2"
  }
 },
 "nbformat": 4,
 "nbformat_minor": 5
}
