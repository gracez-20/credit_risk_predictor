{
 "cells": [
  {
   "cell_type": "code",
   "execution_count": 1,
   "id": "576d8c03",
   "metadata": {},
   "outputs": [],
   "source": [
    "import pandas as pd\n",
    "import numpy as np\n",
    "import os\n",
    "import sys\n",
    "from sklearn.preprocessing import OrdinalEncoder, OneHotEncoder, StandardScaler\n",
    "from sklearn.compose import ColumnTransformer\n",
    "from sklearn.model_selection import train_test_split"
   ]
  },
  {
   "cell_type": "code",
   "execution_count": 2,
   "id": "5ec9602b",
   "metadata": {},
   "outputs": [],
   "source": [
    "# Read raw data\n",
    "project_root = os.path.abspath(os.path.join(os.getcwd(), \"..\"))\n",
    "if project_root not in sys.path:\n",
    "    sys.path.append(project_root)\n",
    "\n",
    "from src.data.read_data import load_and_label_raw_data, replace_categorical_labels\n",
    "raw_path = \"../data/raw/german/german.data\"\n",
    "df = load_and_label_raw_data(raw_path)\n",
    "df_label = replace_categorical_labels(df)\n",
    "\n",
    "# Train test split\n",
    "X = df_label.drop(columns=['target'])\n",
    "y = df_label['target']\n",
    "\n",
    "X_train, X_test, y_train, y_test = train_test_split(\n",
    "    X, y, test_size=0.2, stratify=y, random_state=123\n",
    ")\n",
    "\n",
    "# Feature Groups\n",
    "ordinal_features = {\n",
    "    'account_status': [\"no checking account\", \"< 0 DM\", \"0 <= ... < 200 DM\", \">= 200 DM / salary assignment\"],\n",
    "    'savings': [\"unknown\", \"< 100 DM\", \"100-500 DM\", \"500-1000 DM\", \">= 1000 DM\"],\n",
    "    'employment_yr': [\"unemployed\", \"< 1 year\", \"1-4 years\", \"4-7 years\", \">= 7 years\"],\n",
    "    'job': [\"unskilled-nonresident\", \"unskilled-resident\", \"skilled\", \"management\"]\n",
    "}\n",
    "ordinal_cols = list(ordinal_features.keys())\n",
    "\n",
    "onehot_cols = [\n",
    "    'credit_history', 'purpose', 'personal_status_sex', 'other_debtors', \n",
    "    'property', 'other_installment_plans', 'telephone', 'foreign_worker',\n",
    "    'housing'\n",
    "]\n",
    "\n",
    "numeric_cols = ['duration_mon', 'credit_amount', 'age']\n",
    "\n",
    "# From EDA: Treat these as categorical (though they are int)\n",
    "discrete_as_categorical = ['installment_rate', 'residence_since', 'existing_credits', 'num_liable_people']\n",
    "onehot_cols += [col for col in discrete_as_categorical if col not in onehot_cols]\n",
    "\n",
    "# Setup preprocessor\n",
    "preprocessor = ColumnTransformer(\n",
    "    transformers=[\n",
    "        ('ord', OrdinalEncoder(categories=[ordinal_features[col] for col in ordinal_cols]), ordinal_cols),\n",
    "        ('ohe', OneHotEncoder(drop='first', sparse_output=False), onehot_cols),\n",
    "        ('num', StandardScaler(), numeric_cols)\n",
    "    ],\n",
    "    remainder='drop'\n",
    ")\n",
    "\n",
    "# Fit and transform\n",
    "X_train_processed = preprocessor.fit_transform(X_train)\n",
    "X_test_processed = preprocessor.transform(X_test)\n",
    "\n",
    "ord_cols = ordinal_cols\n",
    "ohe_cols = preprocessor.named_transformers_['ohe'].get_feature_names_out(onehot_cols).tolist()\n",
    "num_cols = numeric_cols\n",
    "final_cols = ord_cols + ohe_cols + num_cols\n",
    "\n",
    "df_train = pd.DataFrame(X_train_processed, columns=final_cols)\n",
    "df_train['target'] = y_train.values\n",
    "\n",
    "df_test = pd.DataFrame(X_test_processed, columns=final_cols)\n",
    "df_test['target'] = y_test.values"
   ]
  },
  {
   "cell_type": "code",
   "execution_count": 3,
   "id": "3adf19e4",
   "metadata": {},
   "outputs": [
    {
     "data": {
      "text/plain": [
       "Index(['account_status', 'savings', 'employment_yr', 'job',\n",
       "       'credit_history_critical account', 'credit_history_delayed payments',\n",
       "       'credit_history_existing credits paid',\n",
       "       'credit_history_no credits / all paid back', 'purpose_business',\n",
       "       'purpose_car (new)', 'purpose_car (used)', 'purpose_education',\n",
       "       'purpose_furniture', 'purpose_other', 'purpose_radio/TV',\n",
       "       'purpose_repairs', 'purpose_retraining',\n",
       "       'personal_status_sex_male-div/sep', 'personal_status_sex_male-married',\n",
       "       'personal_status_sex_male-single', 'other_debtors_guarantor',\n",
       "       'other_debtors_none', 'property_life insurance', 'property_real estate',\n",
       "       'property_unknown', 'other_installment_plans_none',\n",
       "       'other_installment_plans_stores', 'telephone_yes', 'foreign_worker_yes',\n",
       "       'housing_own', 'housing_rent', 'installment_rate_2',\n",
       "       'installment_rate_3', 'installment_rate_4', 'residence_since_2',\n",
       "       'residence_since_3', 'residence_since_4', 'existing_credits_2',\n",
       "       'existing_credits_3', 'existing_credits_4', 'num_liable_people_2',\n",
       "       'duration_mon', 'credit_amount', 'age', 'target'],\n",
       "      dtype='object')"
      ]
     },
     "execution_count": 3,
     "metadata": {},
     "output_type": "execute_result"
    }
   ],
   "source": [
    "df_train.columns"
   ]
  },
  {
   "cell_type": "code",
   "execution_count": 4,
   "id": "9bdb2162",
   "metadata": {},
   "outputs": [],
   "source": [
    "# Save processed data\n",
    "df_train.to_csv(\"../data/processed/train_processed.csv\", index=False)\n",
    "df_test.to_csv(\"../data/processed/test_processed.csv\", index=False)"
   ]
  },
  {
   "cell_type": "code",
   "execution_count": null,
   "id": "0c521a75",
   "metadata": {},
   "outputs": [],
   "source": []
  }
 ],
 "metadata": {
  "kernelspec": {
   "display_name": "credit_risk",
   "language": "python",
   "name": "python3"
  },
  "language_info": {
   "codemirror_mode": {
    "name": "ipython",
    "version": 3
   },
   "file_extension": ".py",
   "mimetype": "text/x-python",
   "name": "python",
   "nbconvert_exporter": "python",
   "pygments_lexer": "ipython3",
   "version": "3.13.2"
  }
 },
 "nbformat": 4,
 "nbformat_minor": 5
}
